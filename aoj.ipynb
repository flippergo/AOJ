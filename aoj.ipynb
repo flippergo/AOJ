{
 "cells": [
  {
   "cell_type": "code",
   "execution_count": 45,
   "metadata": {},
   "outputs": [
    {
     "name": "stdout",
     "output_type": "stream",
     "text": [
      "2 100000009\n",
      "0 2 2e-08\n"
     ]
    }
   ],
   "source": [
    "nums = input().split()\n",
    "a = int(nums[0])\n",
    "b = int(nums[1])\n",
    "\n",
    "d = a//b\n",
    "r = a%b\n",
    "f = a/b\n",
    "f = round(f*100000000.0)/100000000.0\n",
    "print(d, r, f)"
   ]
  },
  {
   "cell_type": "code",
   "execution_count": 47,
   "metadata": {},
   "outputs": [
    {
     "name": "stdout",
     "output_type": "stream",
     "text": [
      "3 4\n",
      "####\n",
      "####\n",
      "####\n",
      "\n",
      "5 6\n",
      "######\n",
      "######\n",
      "######\n",
      "######\n",
      "######\n",
      "\n",
      "0 0\n"
     ]
    }
   ],
   "source": [
    "while True:\n",
    "    nums = input().split()\n",
    "    nums = [int(x) for x in nums]\n",
    "    m = nums[0]\n",
    "    f = nums[1]\n",
    "    r = nums[2]\n",
    "    if m==-1 and f==-1 and r==-1:\n",
    "        break\n",
    "    if m==-1 or f==-1:\n",
    "        print(\"F\")\n",
    "    elif m+f >= 80:\n",
    "        print(\"A\")\n",
    "    elif m+f >= 65:\n",
    "        print(\"B\")\n",
    "    elif m+f >= 50:\n",
    "        print(\"C\")\n",
    "    elif m+f >= 30:\n",
    "        if r >= 50:\n",
    "            print(\"C\")\n",
    "        else:\n",
    "            print(\"D\")\n",
    "    else:\n",
    "        print(\"F\")\n",
    "        "
   ]
  },
  {
   "cell_type": "code",
   "execution_count": 4,
   "metadata": {},
   "outputs": [
    {
     "data": {
      "text/plain": [
       "NMF(alpha=0.0, beta_loss='frobenius', init=None, l1_ratio=0.0, max_iter=200,\n",
       "  n_components=64, random_state=None, shuffle=False, solver='cd',\n",
       "  tol=0.0001, verbose=0)"
      ]
     },
     "execution_count": 4,
     "metadata": {},
     "output_type": "execute_result"
    }
   ],
   "source": [
    "n = int(input())\n",
    "X = input().split()\n",
    "X = [int(x) for x in X]\n",
    "\n",
    "Y = list(range(n))\n",
    "for i in range(n):\n",
    "    Y[n-1-i] = X[i]\n",
    "for i in range(n):\n",
    "    if i<n-1:\n",
    "        print(Y[i], end=\" \")\n",
    "    if i==n-1:\n",
    "        print(Y[i])"
   ]
  },
  {
   "cell_type": "code",
   "execution_count": 57,
   "metadata": {},
   "outputs": [
    {
     "name": "stdout",
     "output_type": "stream",
     "text": [
      "fAIR, LATER, OCCASIONALLY CLOUDY.\n",
      "Fair, later, occasionally cloudy.\n"
     ]
    }
   ],
   "source": [
    "str = input()\n",
    "for i in range(len(str)):\n",
    "    if i < len(str)-1:\n",
    "        print(str[i].swapcase(), end=\"\")\n",
    "    else:\n",
    "        print(str[i].swapcase())\n"
   ]
  },
  {
   "cell_type": "code",
   "execution_count": 71,
   "metadata": {},
   "outputs": [
    {
     "name": "stdout",
     "output_type": "stream",
     "text": [
      "aizu\n",
      "aizu aizu aizu\n",
      "0\n",
      "5\n",
      "END_OF_TEXT\n",
      "2\n"
     ]
    }
   ],
   "source": [
    "word = input()\n",
    "cnt = 0\n",
    "while True:\n",
    "    str = input()\n",
    "    if str == \"END_OF_TEXT\":\n",
    "        break\n",
    "    str = str.lower()\n",
    "    for i in range(len(str)-len(word)+1):\n",
    "        if str[i:i+len(word)]==word:\n",
    "            print(i)\n",
    "            cnt += 1\n",
    "print(cnt)"
   ]
  },
  {
   "cell_type": "code",
   "execution_count": 70,
   "metadata": {},
   "outputs": [
    {
     "data": {
      "text/plain": [
       "'aizu'"
      ]
     },
     "execution_count": 70,
     "metadata": {},
     "output_type": "execute_result"
    }
   ],
   "source": [
    "word = input()\n",
    "cnt = 0\n",
    "while True:\n",
    "    str = input()\n",
    "    if str == \"END_OF_TEXT\":\n",
    "        break\n",
    "    str = str.lower()\n",
    "    str = str.split()\n",
    "    for x in str:\n",
    "        if x == word or x==word+\".\":\n",
    "            cnt += 1\n",
    "print(cnt)"
   ]
  },
  {
   "cell_type": "code",
   "execution_count": 76,
   "metadata": {},
   "outputs": [
    {
     "name": "stdout",
     "output_type": "stream",
     "text": [
      "1.123 0.0 1.123 100.0\n",
      "100.0\n"
     ]
    }
   ],
   "source": [
    "xs = input().split()\n",
    "xs = [float(x) for x in xs]\n",
    "x0 = xs[0]\n",
    "x1 = xs[1]\n",
    "y0 = xs[2]\n",
    "y1 = xs[3]\n",
    "\n",
    "print(((x0-y0)**2+(x1-y1)**2)**0.5)"
   ]
  },
  {
   "cell_type": "code",
   "execution_count": 10,
   "metadata": {},
   "outputs": [],
   "source": [
    "def bubbleSort(A, N):  # N 個の要素を含む 0-オリジンの配列 A\n",
    "    flag = 1 # 逆の隣接要素が存在する\n",
    "    cnt = 0\n",
    "    while flag:\n",
    "        flag = 0\n",
    "        for j in range(1, N):\n",
    "            if A[j] < A[j-1]:\n",
    "                A[j], A[j-1] = A[j-1], A[j]\n",
    "                cnt += 1\n",
    "                flag = 1\n",
    "    return A, cnt\n",
    "N = int(input())\n",
    "A = input().split()\n",
    "A = [int(x) for x in A]\n",
    "\n",
    "A, cnt = bubbleSort(A, N)\n",
    "for i in range(N):\n",
    "    if i<N-1:\n",
    "        print(A[i], end=\" \")\n",
    "    else:\n",
    "        print(A[i])\n",
    "print(cnt)"
   ]
  },
  {
   "cell_type": "code",
   "execution_count": 136,
   "metadata": {},
   "outputs": [
    {
     "name": "stdout",
     "output_type": "stream",
     "text": [
      "no\n",
      "no\n",
      "yes\n",
      "yes\n",
      "yes\n",
      "yes\n",
      "yes\n",
      "yes\n",
      "no\n",
      "no\n"
     ]
    }
   ],
   "source": [
    "\n",
    "# n = 5\n",
    "# A = [1, 5, 7, 10, 21]\n",
    "# q = 10\n",
    "# M = [2, 4, 6, 15, 17, 8, 22, 21, 100, 35]\n",
    "\n",
    "# n = 18\n",
    "# A = [1, 34, 44, 63, 30, 1, 9, 53, 57, 57, 20, 12, 52, 44, 6, 9, 94, 31]\n",
    "# q = 1\n",
    "# M = [572]\n",
    "\n",
    "n = int(input())\n",
    "A = input().split()\n",
    "A = [int(x) for x in A]\n",
    "q = int(input())\n",
    "M = input().split()\n",
    "M = [int(x) for x in M]\n",
    "memo = {}\n",
    "def total_m(m, B):\n",
    "    if m > sum(B) or min(B)>m:\n",
    "        memo[m, tuple(B)] = \"no\"\n",
    "        return \"no\"\n",
    "    for x in B:\n",
    "        C = B[:]\n",
    "        C.remove(x)\n",
    "#         print(C)\n",
    "        if x == m:\n",
    "            memo[x, tuple(B)] = \"yes\"\n",
    "            return memo[x, tuple(B)]\n",
    "        if (m-x, tuple(C)) in memo:\n",
    "            if memo[m-x, tuple(C)]==\"yes\":\n",
    "                memo[m, tuple(B)] = \"yes\"\n",
    "                return memo[m, tuple(B)]\n",
    "        elif x<m and C!=[]:\n",
    "            memo[m-x, tuple(C)] = total_m(m-x, C)\n",
    "            if memo[m-x, tuple(C)]==\"yes\":\n",
    "                memo[m, tuple(B)] = memo[m-x, tuple(C)]\n",
    "                return memo[m, tuple(B)]\n",
    "#     print(m, B)\n",
    "#     print(memo)\n",
    "    memo[m, tuple(B)] = \"no\"\n",
    "    return \"no\"\n",
    "\n",
    "for m in M:\n",
    "#     memo = {}\n",
    "    print(total_m(m, A))"
   ]
  },
  {
   "cell_type": "code",
   "execution_count": 150,
   "metadata": {},
   "outputs": [
    {
     "name": "stdout",
     "output_type": "stream",
     "text": [
      "50\n",
      " 0 33 43 62 29 0 8 52 56 56 19 11 51 43 5 8 93 30 66 69 32 17 47 72 68 80 23 49 92 64 69 51 27 90 24 35 20 44 10 62 84 63 1 10 36 76 31 29 97 75\n",
      "0 0 1 5 8 8 10 10 11 17 19 20 23 24 27 29 29 30 31 32 33 35 36 43 43 44 47 49 51 51 52 56 56 62 62 63 64 66 68 69 69 72 75 76 80 84 90 92 93 97\n"
     ]
    }
   ],
   "source": [
    "def CountingSort(A, k):\n",
    "    B = list(range(len(A)))\n",
    "    C = []\n",
    "    for i in range(k+1):\n",
    "        C.append(0)\n",
    "    #  C[i] に i の出現数を記録する\n",
    "    for j in range(n):\n",
    "        C[A[j]] += 1\n",
    "    # C[i] に i 以下の数の出現数を記録する\n",
    "    for i in range(1, k+1):\n",
    "        C[i] = C[i] + C[i-1]\n",
    "#     print(C)\n",
    "    for i in range(k+1):\n",
    "        C[i] -= 1\n",
    "#     print(C)\n",
    "\n",
    "    for j in range(n-1,-1, -1):\n",
    "        B[C[A[j]]] = A[j]\n",
    "        C[A[j]] -= 1\n",
    "    return B\n",
    "\n",
    "n = int(input())\n",
    "A = input().split()\n",
    "A = [int(x) for x in A]\n",
    "k = max(A)\n",
    "B = CountingSort(A, k)\n",
    "\n",
    "for i in range(n):\n",
    "    if i < n-1:\n",
    "        print(B[i], end=\" \")\n",
    "    else:\n",
    "        print(B[i])"
   ]
  },
  {
   "cell_type": "code",
   "execution_count": 3,
   "metadata": {},
   "outputs": [
    {
     "name": "stdout",
     "output_type": "stream",
     "text": [
      "4\n",
      "1 2 2 4\n",
      "2 1 4\n",
      "3 0\n",
      "4 1 3\n",
      "0 1 0 1\n",
      "0 0 0 1\n",
      "0 0 0 0\n",
      "0 0 1 0\n"
     ]
    }
   ],
   "source": [
    "# ALDS1_11_A\n",
    "\n",
    "n = int(input())\n",
    "Adj = {}\n",
    "# making adjacent list\n",
    "for i in range(n):\n",
    "    nums = input().split()\n",
    "    nums = [int(x) for x in nums]\n",
    "    vertex = nums[0]-1\n",
    "    deg = nums[1]\n",
    "    adj = [x-1 for x in nums[2:]]\n",
    "    Adj[vertex] = adj\n",
    "A = []\n",
    "for i in range(n):\n",
    "    a = \"0\"*n\n",
    "    a = list(a)\n",
    "    a = [int(x) for x in a]\n",
    "    A.append(a)\n",
    "for i in range(n):\n",
    "    for j in Adj[i]:\n",
    "        A[i][j] = 1\n",
    "\n",
    "for i in range(n):\n",
    "    for j in range(n):\n",
    "        if j < n-1:\n",
    "            print(A[i][j], end=\" \")\n",
    "        else:\n",
    "            print(A[i][j])"
   ]
  },
  {
   "cell_type": "code",
   "execution_count": 2,
   "metadata": {},
   "outputs": [
    {
     "data": {
      "text/plain": [
       "['0', '0', '0', '0', '0', '0', '0', '0', '0', '0']"
      ]
     },
     "execution_count": 2,
     "metadata": {},
     "output_type": "execute_result"
    }
   ],
   "source": [
    "a = \"0\"*10\n",
    "a = list(a)\n",
    "a"
   ]
  },
  {
   "cell_type": "code",
   "execution_count": 39,
   "metadata": {},
   "outputs": [
    {
     "data": {
      "text/plain": [
       "'b'"
      ]
     },
     "execution_count": 39,
     "metadata": {},
     "output_type": "execute_result"
    }
   ],
   "source": [
    "list(dic[\"a\"].keys())[0]"
   ]
  },
  {
   "cell_type": "code",
   "execution_count": null,
   "metadata": {},
   "outputs": [],
   "source": []
  }
 ],
 "metadata": {
  "kernelspec": {
   "display_name": "Python 3",
   "language": "python",
   "name": "python3"
  },
  "language_info": {
   "codemirror_mode": {
    "name": "ipython",
    "version": 3
   },
   "file_extension": ".py",
   "mimetype": "text/x-python",
   "name": "python",
   "nbconvert_exporter": "python",
   "pygments_lexer": "ipython3",
   "version": "3.6.6"
  }
 },
 "nbformat": 4,
 "nbformat_minor": 2
}
